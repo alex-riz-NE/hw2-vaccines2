{
  "nbformat": 4,
  "nbformat_minor": 0,
  "metadata": {
    "colab": {
      "provenance": [],
      "include_colab_link": true
    },
    "kernelspec": {
      "name": "python3",
      "display_name": "Python 3"
    },
    "language_info": {
      "name": "python"
    }
  },
  "cells": [
    {
      "cell_type": "markdown",
      "metadata": {
        "id": "view-in-github",
        "colab_type": "text"
      },
      "source": [
        "<a href=\"https://colab.research.google.com/github/alex-riz-NE/hw2-vaccines2/blob/main/Copy_of_05_statsmodels_exercises.ipynb\" target=\"_parent\"><img src=\"https://colab.research.google.com/assets/colab-badge.svg\" alt=\"Open In Colab\"/></a>"
      ]
    },
    {
      "cell_type": "markdown",
      "source": [
        "# 05 -- Statsmodels exercises\n",
        "\n",
        "Uses statsmodels for linear regression of the advertising dataset -- reproduces results in ISLR\n",
        "\n",
        "Advertising dataset -- https://www.statlearning.com/s/Advertising.csv\n"
      ],
      "metadata": {
        "id": "fxTGg4xWWCvw"
      }
    },
    {
      "cell_type": "code",
      "source": [
        "import matplotlib.pyplot as plt\n",
        "import numpy as np\n",
        "import pandas as pd\n",
        "import statsmodels.api as sm"
      ],
      "metadata": {
        "id": "L99zn_RyYj4i"
      },
      "execution_count": null,
      "outputs": []
    },
    {
      "cell_type": "code",
      "source": [
        "np.random.seed(9876789)"
      ],
      "metadata": {
        "id": "57_Foh7lZFur"
      },
      "execution_count": null,
      "outputs": []
    },
    {
      "cell_type": "markdown",
      "source": [
        "\n",
        "## Exercise 1 -- Table 3.1 (p68): univariate sales on TV\n",
        "\n",
        "* Adapt the statsmodels OLS-estimation demo to reproduce Table 3.1 (p68) of ISLR2\n",
        "* [OLS-estimation](https://www.statsmodels.org/stable/examples/notebooks/generated/ols.html#OLS-estimation) demo\n",
        "* The example on the main page of statsmodels.org uses an R-style DSL (Domain Specific Language)\n"
      ],
      "metadata": {
        "id": "4ryWg9uxuz60"
      }
    },
    {
      "cell_type": "code",
      "source": [
        "adv = pd.read_csv(\"/content/Advertising.csv\")"
      ],
      "metadata": {
        "id": "XsvEJwGMYuny"
      },
      "execution_count": null,
      "outputs": []
    },
    {
      "cell_type": "code",
      "source": [
        "adv\n",
        "X=adv[\"TV\"]\n",
        "nsample = adv.shape[0]\n",
        "# beta = np.array([1, 0.1, 10])\n",
        "# e = np.random.normal(size=nsample)\n",
        "\n",
        "X = sm.add_constant(X)\n",
        "y = adv[\"sales\"]\n",
        "model = sm.OLS(y, X)\n",
        "results = model.fit()\n",
        "print(results.summary2())\n"
      ],
      "metadata": {
        "colab": {
          "base_uri": "https://localhost:8080/"
        },
        "id": "3_eqJqfpY3sw",
        "outputId": "2a488a48-e81f-4f62-d2ea-3a6ea92ce3a7"
      },
      "execution_count": null,
      "outputs": [
        {
          "output_type": "stream",
          "name": "stdout",
          "text": [
            "                 Results: Ordinary least squares\n",
            "==================================================================\n",
            "Model:              OLS              Adj. R-squared:     0.610    \n",
            "Dependent Variable: sales            AIC:                1042.0913\n",
            "Date:               2023-02-08 02:07 BIC:                1048.6880\n",
            "No. Observations:   200              Log-Likelihood:     -519.05  \n",
            "Df Model:           1                F-statistic:        312.1    \n",
            "Df Residuals:       198              Prob (F-statistic): 1.47e-42 \n",
            "R-squared:          0.612            Scale:              10.619   \n",
            "---------------------------------------------------------------------\n",
            "          Coef.     Std.Err.       t       P>|t|     [0.025    0.975]\n",
            "---------------------------------------------------------------------\n",
            "const     7.0326      0.4578    15.3603    0.0000    6.1297    7.9355\n",
            "TV        0.0475      0.0027    17.6676    0.0000    0.0422    0.0528\n",
            "------------------------------------------------------------------\n",
            "Omnibus:              0.531         Durbin-Watson:           1.935\n",
            "Prob(Omnibus):        0.767         Jarque-Bera (JB):        0.669\n",
            "Skew:                 -0.089        Prob(JB):                0.716\n",
            "Kurtosis:             2.779         Condition No.:           338  \n",
            "==================================================================\n",
            "\n"
          ]
        },
        {
          "output_type": "stream",
          "name": "stderr",
          "text": [
            "/usr/local/lib/python3.8/dist-packages/statsmodels/tsa/tsatools.py:142: FutureWarning: In a future version of pandas all arguments of concat except for the argument 'objs' will be keyword-only\n",
            "  x = pd.concat(x[::order], 1)\n"
          ]
        }
      ]
    },
    {
      "cell_type": "code",
      "source": [
        "A=np.identity(len(results.params))\n",
        "A = A[1:,:]\n",
        "print(results.f_test(A))\n"
      ],
      "metadata": {
        "colab": {
          "base_uri": "https://localhost:8080/"
        },
        "id": "p8ZeCzOeca6e",
        "outputId": "46657cd4-f998-479d-ede7-84ae030d5254"
      },
      "execution_count": null,
      "outputs": [
        {
          "output_type": "stream",
          "name": "stdout",
          "text": [
            "<F test: F=array([[312.14499437]]), p=1.4673897001946677e-42, df_denom=198, df_num=1>\n"
          ]
        }
      ]
    },
    {
      "cell_type": "code",
      "source": [
        "print(results.fvalue)\n",
        "print(np.sqrt(results.mse_resid))\n",
        "print(results.rsquared)"
      ],
      "metadata": {
        "colab": {
          "base_uri": "https://localhost:8080/"
        },
        "id": "aCiqbnF-Z73z",
        "outputId": "dd8a3683-78e8-4686-d151-a7283110a48a"
      },
      "execution_count": null,
      "outputs": [
        {
          "output_type": "stream",
          "name": "stdout",
          "text": [
            "312.1449943727128\n",
            "3.258656368650463\n",
            "0.611875050850071\n"
          ]
        }
      ]
    },
    {
      "cell_type": "code",
      "source": [
        "yhat"
      ],
      "metadata": {
        "colab": {
          "base_uri": "https://localhost:8080/"
        },
        "id": "9DsrAyFNxKis",
        "outputId": "84ae5220-2181-4436-f1e6-5a45c1f978b6"
      },
      "execution_count": null,
      "outputs": [
        {
          "output_type": "execute_result",
          "data": {
            "text/plain": [
              "0      17.970775\n",
              "1       9.147974\n",
              "2       7.850224\n",
              "3      14.234395\n",
              "4      15.627218\n",
              "         ...    \n",
              "195     8.848493\n",
              "196    11.510545\n",
              "197    15.446579\n",
              "198    20.513985\n",
              "199    18.065848\n",
              "Name: TV, Length: 200, dtype: float64"
            ]
          },
          "metadata": {},
          "execution_count": 133
        }
      ]
    },
    {
      "cell_type": "code",
      "source": [
        "yhat=results.params[1]*X['TV']+ results.params[0]\n",
        "plt.scatter(X['TV'], y, c='r', s=10)\n",
        "plt.plot(X['TV'], yhat, c='k')\n",
        "plt.xlabel(\"TV\")\n",
        "plt.ylabel(\"Sales\")"
      ],
      "metadata": {
        "colab": {
          "base_uri": "https://localhost:8080/",
          "height": 296
        },
        "id": "O_wyhFltlRUq",
        "outputId": "b5f84b78-480e-488a-85b9-cf67ed7ae3d4"
      },
      "execution_count": null,
      "outputs": [
        {
          "output_type": "execute_result",
          "data": {
            "text/plain": [
              "Text(0, 0.5, 'Sales')"
            ]
          },
          "metadata": {},
          "execution_count": 135
        },
        {
          "output_type": "display_data",
          "data": {
            "text/plain": [
              "<Figure size 432x288 with 1 Axes>"
            ],
            "image/png": "[encoded data removed]"
          },
          "metadata": {
            "needs_background": "light"
          }
        }
      ]
    },
    {
      "cell_type": "code",
      "source": [
        "yhat=results.params[1]*X['TV']+ results.params[0]\n",
        "plt.scatter(X['TV'], y-yhat, c='r', s=10)\n",
        "plt.plot(X['TV'], 0*y, c='k')\n",
        "plt.xlabel(\"TV\")\n",
        "plt.ylabel(\"Sales\")"
      ],
      "metadata": {
        "colab": {
          "base_uri": "https://localhost:8080/",
          "height": 296
        },
        "id": "M53_WOiFx9xm",
        "outputId": "7cd49409-07c4-41e5-ba82-4aabf22cc358"
      },
      "execution_count": null,
      "outputs": [
        {
          "output_type": "execute_result",
          "data": {
            "text/plain": [
              "Text(0, 0.5, 'Sales')"
            ]
          },
          "metadata": {},
          "execution_count": 137
        },
        {
          "output_type": "display_data",
          "data": {
            "text/plain": [
              "<Figure size 432x288 with 1 Axes>"
            ],
            "image/png": "[encoded data removed]"
          },
          "metadata": {
            "needs_background": "light"
          }
        }
      ]
    },
    {
      "cell_type": "markdown",
      "source": [],
      "metadata": {
        "id": "NEgwypOyZ6XJ"
      }
    },
    {
      "cell_type": "code",
      "source": [
        "import seaborn as sns\n",
        "sns.histplot(results.resid)"
      ],
      "metadata": {
        "colab": {
          "base_uri": "https://localhost:8080/",
          "height": 282
        },
        "id": "5pH37gQ7sZ7E",
        "outputId": "b88826fc-9229-4e28-b431-5685c7c932bc"
      },
      "execution_count": null,
      "outputs": [
        {
          "output_type": "execute_result",
          "data": {
            "text/plain": [
              "<matplotlib.axes._subplots.AxesSubplot at 0x7f3586a7b5b0>"
            ]
          },
          "metadata": {},
          "execution_count": 139
        },
        {
          "output_type": "display_data",
          "data": {
            "text/plain": [
              "<Figure size 432x288 with 1 Axes>"
            ],
            "image/png": "[encoded data removed]"
          },
          "metadata": {
            "needs_background": "light"
          }
        }
      ]
    },
    {
      "cell_type": "code",
      "source": [
        "import numpy as np\n",
        "import seaborn as sns\n",
        "import matplotlib.pyplot as plt\n",
        "import math\n",
        "\n",
        "n = 1\n",
        "\n",
        "data = results.resid\n",
        "y = [np.mean(x) for x in data]\n",
        "\n",
        "sns.displot(y, stat=\"density\", bins=25)\n",
        "\n",
        "# Plot a Gaussian PDF using sample mean and variance\n",
        "sigma = np.std(y)\n",
        "mu = np.mean(y)\n",
        "x = np.linspace(-3 * sigma, 3 * sigma, 100)\n",
        "a = 1 / math.sqrt(2 * math.pi) / sigma\n",
        "x2 = -.5 * ((x - mu) / sigma)**2\n",
        "y = a * np.exp(x2)\n",
        "plt.plot(x, y, 'r-', lw=5, alpha=0.6, label='norm pdf')\n",
        "plt.legend();"
      ],
      "metadata": {
        "colab": {
          "base_uri": "https://localhost:8080/",
          "height": 369
        },
        "id": "-ibnhxwVtp_F",
        "outputId": "cd9869c2-3133-4230-a776-029c2e773f21"
      },
      "execution_count": null,
      "outputs": [
        {
          "output_type": "display_data",
          "data": {
            "text/plain": [
              "<Figure size 360x360 with 1 Axes>"
            ],
            "image/png": "[encoded data removed]"
          },
          "metadata": {
            "needs_background": "light"
          }
        }
      ]
    }
  ]
}